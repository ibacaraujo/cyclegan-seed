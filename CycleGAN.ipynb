{
  "nbformat": 4,
  "nbformat_minor": 0,
  "metadata": {
    "colab": {
      "name": "CycleGAN.ipynb",
      "provenance": [],
      "collapsed_sections": [],
      "include_colab_link": true
    },
    "kernelspec": {
      "name": "python3",
      "display_name": "Python 3"
    },
    "accelerator": "GPU"
  },
  "cells": [
    {
      "cell_type": "markdown",
      "metadata": {
        "id": "view-in-github",
        "colab_type": "text"
      },
      "source": [
        "<a href=\"https://colab.research.google.com/github/ibacaraujo/cyclegan-seed/blob/master/CycleGAN.ipynb\" target=\"_parent\"><img src=\"https://colab.research.google.com/assets/colab-badge.svg\" alt=\"Open In Colab\"/></a>"
      ]
    },
    {
      "cell_type": "markdown",
      "metadata": {
        "id": "Qmw9h2rgjc3t",
        "colab_type": "text"
      },
      "source": [
        "# Unpaired Image-to-Image Translation using Cycle-Consistent Adversarial Networks"
      ]
    },
    {
      "cell_type": "code",
      "metadata": {
        "id": "eEFqONKhjWEh",
        "colab_type": "code",
        "colab": {}
      },
      "source": [
        "!pip install cadl"
      ],
      "execution_count": 0,
      "outputs": []
    },
    {
      "cell_type": "code",
      "metadata": {
        "id": "GaAVsfBsn-7i",
        "colab_type": "code",
        "colab": {}
      },
      "source": [
        "!pip install scipy==1.1.0"
      ],
      "execution_count": 0,
      "outputs": []
    },
    {
      "cell_type": "code",
      "metadata": {
        "id": "tvGBYRF-nG6_",
        "colab_type": "code",
        "colab": {}
      },
      "source": [
        "import numpy as np\n",
        "import tensorflow as tf\n",
        "import tensorflow.contrib.layers as tfl\n",
        "from cadl.cycle_gan import lrelu, instance_norm"
      ],
      "execution_count": 0,
      "outputs": []
    },
    {
      "cell_type": "code",
      "metadata": {
        "id": "RRXm1OfAoOFF",
        "colab_type": "code",
        "colab": {}
      },
      "source": [
        "def encoder(x, n_filters=32, k_size=3, normalizer_fn=instance_norm, \n",
        "            activation_fn=lrelu, scope=None, reuse=None):\n",
        "  with tf.variable_scope(scope or 'encoder', reuse=reuse):\n",
        "    h = tf.pad(\n",
        "        x, \n",
        "        [[0,0], [k_size, k_size], [k_size, k_size], [0, 0]], \n",
        "        \"REFLECT\")\n",
        "    h = tfl.conv2d(\n",
        "        inputs=h,\n",
        "        num_outputs=n_filters,\n",
        "        kernel_size=7,\n",
        "        stride=1,\n",
        "        padding='VALID',\n",
        "        weights_initializer=tf.truncated_normal_initializer(stddev=0.02),\n",
        "        biases_initializer=None,\n",
        "        normalizer_fn=normalizer_fn,\n",
        "        activation_fn=activation_fn,\n",
        "        scope='1',\n",
        "        reuse=reuse)\n",
        "    h = tfl.conv2d(\n",
        "        inputs=h,\n",
        "        num_outputs=n_filters*2,\n",
        "        kernel_size=k_size,\n",
        "        stride=2,\n",
        "        weights_initializer=tf.truncated_normal_initializer(stddev=0.002),\n",
        "        biases_initializer=None,\n",
        "        normalizer_fn=normalizer_fn,\n",
        "        activation_fn=activation_fn,\n",
        "        scope='2',\n",
        "        reuse=reuse)\n",
        "    h = tfl.conv2d(\n",
        "        inputs=h,\n",
        "        num_outputs=n_filters*4,\n",
        "        kernel_size=k_size,\n",
        "        stride=2,\n",
        "        weights_initializer=tf.truncated_normal_initializer(stddev=0.02),\n",
        "        biases_initializer=None,\n",
        "        normalizer_fn=normalizer_fn,\n",
        "        activation_fn=activation_fn,\n",
        "        scope=3,\n",
        "        reuse=reuse)\n",
        "    return h"
      ],
      "execution_count": 0,
      "outputs": []
    }
  ]
}