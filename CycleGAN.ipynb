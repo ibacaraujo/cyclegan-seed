{
  "nbformat": 4,
  "nbformat_minor": 0,
  "metadata": {
    "colab": {
      "name": "CycleGAN.ipynb",
      "provenance": [],
      "collapsed_sections": [],
      "include_colab_link": true
    },
    "kernelspec": {
      "name": "python3",
      "display_name": "Python 3"
    },
    "accelerator": "GPU"
  },
  "cells": [
    {
      "cell_type": "markdown",
      "metadata": {
        "id": "view-in-github",
        "colab_type": "text"
      },
      "source": [
        "<a href=\"https://colab.research.google.com/github/ibacaraujo/cyclegan-seed/blob/master/CycleGAN.ipynb\" target=\"_parent\"><img src=\"https://colab.research.google.com/assets/colab-badge.svg\" alt=\"Open In Colab\"/></a>"
      ]
    },
    {
      "cell_type": "markdown",
      "metadata": {
        "id": "Qmw9h2rgjc3t",
        "colab_type": "text"
      },
      "source": [
        "# Unpaired Image-to-Image Translation using Cycle-Consistent Adversarial Networks"
      ]
    },
    {
      "cell_type": "code",
      "metadata": {
        "id": "eEFqONKhjWEh",
        "colab_type": "code",
        "colab": {}
      },
      "source": [
        "!pip install cadl"
      ],
      "execution_count": 0,
      "outputs": []
    },
    {
      "cell_type": "code",
      "metadata": {
        "id": "GaAVsfBsn-7i",
        "colab_type": "code",
        "colab": {}
      },
      "source": [
        "!pip install scipy==1.1.0"
      ],
      "execution_count": 0,
      "outputs": []
    },
    {
      "cell_type": "code",
      "metadata": {
        "id": "tvGBYRF-nG6_",
        "colab_type": "code",
        "colab": {}
      },
      "source": [
        "import numpy as np\n",
        "import tensorflow as tf\n",
        "import tensorflow.contrib.layers as tfl\n",
        "from cadl.cycle_gan import lrelu, instance_norm"
      ],
      "execution_count": 0,
      "outputs": []
    },
    {
      "cell_type": "code",
      "metadata": {
        "id": "RRXm1OfAoOFF",
        "colab_type": "code",
        "colab": {}
      },
      "source": [
        "def encoder(x, n_filters=32, k_size=3, normalizer_fn=instance_norm, \n",
        "            activation_fn=lrelu, scope=None, reuse=None):\n",
        "  with tf.variable_scope(scope or 'encoder', reuse=reuse):\n",
        "    h = tf.pad(\n",
        "        x, \n",
        "        [[0,0], [k_size, k_size], [k_size, k_size], [0, 0]], \n",
        "        \"REFLECT\")\n",
        "    h = tfl.conv2d(\n",
        "        inputs=h,\n",
        "        num_outputs=n_filters,\n",
        "        kernel_size=7,\n",
        "        stride=1,\n",
        "        padding='VALID',\n",
        "        weights_initializer=tf.truncated_normal_initializer(stddev=0.02),\n",
        "        biases_initializer=None,\n",
        "        normalizer_fn=normalizer_fn,\n",
        "        activation_fn=activation_fn,\n",
        "        scope='1',\n",
        "        reuse=reuse)\n",
        "    h = tfl.conv2d(\n",
        "        inputs=h,\n",
        "        num_outputs=n_filters*2,\n",
        "        kernel_size=k_size,\n",
        "        stride=2,\n",
        "        weights_initializer=tf.truncated_normal_initializer(stddev=0.002),\n",
        "        biases_initializer=None,\n",
        "        normalizer_fn=normalizer_fn,\n",
        "        activation_fn=activation_fn,\n",
        "        scope='2',\n",
        "        reuse=reuse)\n",
        "    h = tfl.conv2d(\n",
        "        inputs=h,\n",
        "        num_outputs=n_filters*4,\n",
        "        kernel_size=k_size,\n",
        "        stride=2,\n",
        "        weights_initializer=tf.truncated_normal_initializer(stddev=0.02),\n",
        "        biases_initializer=None,\n",
        "        normalizer_fn=normalizer_fn,\n",
        "        activation_fn=activation_fn,\n",
        "        scope=3,\n",
        "        reuse=reuse)\n",
        "    return h"
      ],
      "execution_count": 0,
      "outputs": []
    },
    {
      "cell_type": "code",
      "metadata": {
        "id": "Le_V2LVK6qJs",
        "colab_type": "code",
        "colab": {}
      },
      "source": [
        "def residual_block(x, n_channels=128, normalizer_fn=instance_norm,\n",
        "                   activation_fn=lrelu, kernel_size=3, scope=None, reuse=None):\n",
        "  with tf.variable_scope(scope or 'residual', reuse=reuse):\n",
        "    h = tf.pad(x, [[0,0], [1,1], [1,1], [0,0]], 'REFLECT')\n",
        "    h = tfl.conv2d(\n",
        "        inputs=h,\n",
        "        num_outputs=n_channels,\n",
        "        kernel_size=kernel_size,\n",
        "        weights_initializer=tf.truncated_normal_initializer(stddev=0.02),\n",
        "        biases_initializer=None,\n",
        "        normalizer_fn=normalizer_fn,\n",
        "        padding='VALID',\n",
        "        activation_fn=activation_fn,\n",
        "        scope='1',\n",
        "        reuse=reuse)\n",
        "    h = tf.pad(x, [[0,0], [1,1], [1,1], [0,0]], 'REFLECT')\n",
        "    h = tfl.conv2d(inputs=h,\n",
        "                   num_outputs=n_channels,\n",
        "                   kernel_size=kernel_size,\n",
        "                   weights_initializer=tf.truncated_normal_initializer(stddev=0.02),\n",
        "                   biases_initializer=None,\n",
        "                   normalizer_fn=normalizer_fn,\n",
        "                   padding='VALID',\n",
        "                   activation_fn=None,\n",
        "                   scope='2',\n",
        "                   reuse=reuse)\n",
        "    h = tf.add(x, h)\n",
        "  return h"
      ],
      "execution_count": 0,
      "outputs": []
    },
    {
      "cell_type": "code",
      "metadata": {
        "id": "3mJcx0_-7yNI",
        "colab_type": "code",
        "colab": {}
      },
      "source": [
        "def transform(x, img_size=256, reuse=None):\n",
        "  h = x\n",
        "  if img_size >= 256:\n",
        "    n_blocks = 9\n",
        "  else:\n",
        "    n_blocks = 6\n",
        "  for block_i in range(n_blocks):\n",
        "    with tf.variable_scope('block_{}'.format(block_i), reuse=reuse):\n",
        "      h = residual_block(h, reuse=reuse)\n",
        "  return h"
      ],
      "execution_count": 0,
      "outputs": []
    }
  ]
}